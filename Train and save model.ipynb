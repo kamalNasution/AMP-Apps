{
 "cells": [
  {
   "cell_type": "code",
   "execution_count": 1,
   "id": "f683d5a1",
   "metadata": {},
   "outputs": [],
   "source": [
    "import pandas as pd\n",
    "import numpy as np\n",
    "from rdkit import Chem\n",
    "from sklearn.model_selection import train_test_split"
   ]
  },
  {
   "cell_type": "code",
   "execution_count": 2,
   "id": "262e0494",
   "metadata": {},
   "outputs": [],
   "source": [
    "# Load dataset\n",
    "data = pd.read_excel('All_metabolite_antibiotics_and_non.xlsx')  # Ganti dengan nama file Anda\n",
    "\n",
    "# Pisahkan features dan target\n",
    "X = data['Smiles']\n",
    "y = data['Class']  # Atau kolom target lainnya"
   ]
  },
  {
   "cell_type": "code",
   "execution_count": 3,
   "id": "f62cbf76",
   "metadata": {},
   "outputs": [],
   "source": [
    "def rdkit_descriptor(smiles):\n",
    "    mol = Chem.MolFromSmiles(smiles)\n",
    "    calculator = MoleculeDescriptors.MolecularDescriptorCalculator([x[0] for x in Descriptors._descList])\n",
    "    return calculator.CalcDescriptors(mol)"
   ]
  },
  {
   "cell_type": "code",
   "execution_count": 4,
   "id": "61db3ec6",
   "metadata": {},
   "outputs": [],
   "source": [
    "from rdkit.Chem import AllChem\n",
    "def morgan_fingerprint(smiles, radius=2, n_bits=2048):\n",
    "    mol = Chem.MolFromSmiles(smiles)\n",
    "    fp = AllChem.GetMorganFingerprintAsBitVect(mol, radius=radius, nBits=n_bits)\n",
    "    return np.array(fp)"
   ]
  },
  {
   "cell_type": "code",
   "execution_count": 5,
   "id": "1275dc3d",
   "metadata": {},
   "outputs": [
    {
     "data": {
      "text/plain": [
       "array([0, 1, 0, ..., 0, 0, 0])"
      ]
     },
     "execution_count": 5,
     "metadata": {},
     "output_type": "execute_result"
    }
   ],
   "source": [
    "morgan_fingerprint(X[1])"
   ]
  },
  {
   "cell_type": "code",
   "execution_count": 6,
   "id": "2c88268c",
   "metadata": {},
   "outputs": [],
   "source": [
    "from rdkit.Chem import MACCSkeys\n",
    "\n",
    "def maccs_keys(smiles):\n",
    "    mol = Chem.MolFromSmiles(smiles)\n",
    "    fp = MACCSkeys.GenMACCSKeys(mol)\n",
    "    return np.array(fp)"
   ]
  },
  {
   "cell_type": "code",
   "execution_count": 7,
   "id": "047702f1",
   "metadata": {},
   "outputs": [
    {
     "data": {
      "text/plain": [
       "array([0, 0, 0, 0, 0, 0, 0, 0, 0, 0, 0, 0, 0, 0, 0, 0, 0, 0, 0, 0, 0, 0,\n",
       "       0, 0, 0, 0, 0, 0, 0, 0, 0, 0, 0, 0, 0, 0, 0, 0, 0, 0, 0, 0, 0, 0,\n",
       "       0, 0, 0, 0, 0, 0, 0, 0, 0, 1, 0, 0, 0, 0, 0, 0, 0, 0, 0, 0, 0, 0,\n",
       "       0, 0, 0, 0, 0, 0, 0, 0, 0, 0, 0, 0, 0, 0, 0, 0, 0, 0, 0, 0, 0, 0,\n",
       "       0, 1, 0, 0, 0, 0, 0, 0, 0, 0, 0, 0, 0, 0, 0, 0, 0, 0, 0, 0, 0, 0,\n",
       "       0, 0, 0, 0, 0, 0, 0, 0, 0, 0, 0, 0, 0, 1, 0, 0, 0, 0, 0, 0, 0, 1,\n",
       "       0, 0, 0, 0, 0, 0, 0, 1, 0, 0, 0, 0, 0, 0, 1, 0, 0, 1, 0, 0, 1, 0,\n",
       "       1, 0, 0, 1, 0, 1, 1, 0, 0, 0, 1, 0, 0])"
      ]
     },
     "execution_count": 7,
     "metadata": {},
     "output_type": "execute_result"
    }
   ],
   "source": [
    "maccs_keys(X[1])"
   ]
  },
  {
   "cell_type": "code",
   "execution_count": 8,
   "id": "eba2f638-6b2e-45fe-a4ed-230fa4c47e5b",
   "metadata": {},
   "outputs": [],
   "source": [
    "#!pip install pubchempy\n",
    "#!pip install xgboost"
   ]
  },
  {
   "cell_type": "code",
   "execution_count": 9,
   "id": "916adedd",
   "metadata": {},
   "outputs": [],
   "source": [
    "from pubchempy import get_compounds, Compound\n",
    "\n",
    "def pubchem_fingerprint(smiles):\n",
    "    compound = get_compounds(smiles, 'smiles')[0]\n",
    "    return compound.cactvs_fingerprint"
   ]
  },
  {
   "cell_type": "code",
   "execution_count": 10,
   "id": "47d49d4e",
   "metadata": {},
   "outputs": [
    {
     "name": "stderr",
     "output_type": "stream",
     "text": [
      "/Users/ahmadkamal-n/.pyenv/versions/3.10.4/lib/python3.10/site-packages/xgboost/sklearn.py:1395: UserWarning: `use_label_encoder` is deprecated in 1.7.0.\n",
      "  warnings.warn(\"`use_label_encoder` is deprecated in 1.7.0.\")\n"
     ]
    }
   ],
   "source": [
    "from sklearn.ensemble import RandomForestClassifier\n",
    "from sklearn.model_selection import GridSearchCV\n",
    "\n",
    "rf_params = {\n",
    "    'n_estimators': [100, 200, 300],\n",
    "    'max_depth': [None, 10, 20, 30],\n",
    "    'min_samples_split': [2, 5, 10],\n",
    "    'min_samples_leaf': [1, 2, 4],\n",
    "    'bootstrap': [True, False]\n",
    "}\n",
    "\n",
    "rf_grid = GridSearchCV(RandomForestClassifier(), rf_params, cv=5, n_jobs=-1, verbose=1)\n",
    "\n",
    "from xgboost import XGBClassifier\n",
    "\n",
    "xgb_params = {\n",
    "    'n_estimators': [100, 200, 300],\n",
    "    'max_depth': [3, 6, 9],\n",
    "    'learning_rate': [0.01, 0.1, 0.2],\n",
    "    'subsample': [0.6, 0.8, 1.0],\n",
    "    'colsample_bytree': [0.6, 0.8, 1.0]\n",
    "}\n",
    "\n",
    "xgb_grid = GridSearchCV(XGBClassifier(use_label_encoder=False, eval_metric='logloss'), \n",
    "                       xgb_params, cv=5, n_jobs=-1, verbose=1)\n",
    "\n",
    "from sklearn.svm import SVC\n",
    "\n",
    "svm_params = {\n",
    "    'C': [0.1, 1, 10, 100],\n",
    "    'gamma': ['scale', 'auto', 0.001, 0.01, 0.1],\n",
    "    'kernel': ['rbf', 'poly', 'sigmoid']\n",
    "}\n",
    "\n",
    "svm_grid = GridSearchCV(SVC(probability=True), svm_params, cv=5, n_jobs=-1, verbose=1)\n",
    "\n",
    "from sklearn.neural_network import MLPClassifier\n",
    "\n",
    "nn_params = {\n",
    "    'hidden_layer_sizes': [(50,), (100,), (50,50), (100,50)],\n",
    "    'activation': ['relu', 'tanh', 'logistic'],\n",
    "    'alpha': [0.0001, 0.001, 0.01],\n",
    "    'learning_rate': ['constant', 'adaptive']\n",
    "}\n",
    "\n",
    "nn_grid = GridSearchCV(MLPClassifier(max_iter=1000), nn_params, cv=5, n_jobs=-1, verbose=1)\n"
   ]
  },
  {
   "cell_type": "code",
   "execution_count": 12,
   "id": "b5ee865a",
   "metadata": {},
   "outputs": [
    {
     "name": "stdout",
     "output_type": "stream",
     "text": [
      "\n",
      "🔬 Processing descriptor: morgan\n",
      "\n",
      "⚙️ Training random_forest with morgan descriptor...\n",
      "Fitting 5 folds for each of 216 candidates, totalling 1080 fits\n"
     ]
    },
    {
     "name": "stderr",
     "output_type": "stream",
     "text": [
      "/Users/ahmadkamal-n/.pyenv/versions/3.10.4/lib/python3.10/site-packages/sklearn/model_selection/_split.py:700: UserWarning: The least populated class in y has only 3 members, which is less than n_splits=5.\n",
      "  warnings.warn(\n"
     ]
    },
    {
     "name": "stdout",
     "output_type": "stream",
     "text": [
      "✅ Best parameters for random_forest with morgan: {'bootstrap': False, 'max_depth': 20, 'min_samples_leaf': 1, 'min_samples_split': 2, 'n_estimators': 300}\n",
      "✅ Model saved to saved_models/morgan_random_forest_best.joblib\n",
      "\n",
      "⚙️ Training svm with morgan descriptor...\n",
      "Fitting 5 folds for each of 60 candidates, totalling 300 fits\n"
     ]
    },
    {
     "name": "stderr",
     "output_type": "stream",
     "text": [
      "/Users/ahmadkamal-n/.pyenv/versions/3.10.4/lib/python3.10/site-packages/sklearn/model_selection/_split.py:700: UserWarning: The least populated class in y has only 3 members, which is less than n_splits=5.\n",
      "  warnings.warn(\n"
     ]
    },
    {
     "name": "stdout",
     "output_type": "stream",
     "text": [
      "✅ Best parameters for svm with morgan: {'C': 10, 'gamma': 'scale', 'kernel': 'sigmoid'}\n",
      "✅ Model saved to saved_models/morgan_svm_best.joblib\n",
      "\n",
      "⚙️ Training neural_network with morgan descriptor...\n",
      "Fitting 5 folds for each of 72 candidates, totalling 360 fits\n"
     ]
    },
    {
     "name": "stderr",
     "output_type": "stream",
     "text": [
      "/Users/ahmadkamal-n/.pyenv/versions/3.10.4/lib/python3.10/site-packages/sklearn/model_selection/_split.py:700: UserWarning: The least populated class in y has only 3 members, which is less than n_splits=5.\n",
      "  warnings.warn(\n"
     ]
    },
    {
     "name": "stdout",
     "output_type": "stream",
     "text": [
      "✅ Best parameters for neural_network with morgan: {'activation': 'logistic', 'alpha': 0.0001, 'hidden_layer_sizes': (100, 50), 'learning_rate': 'adaptive'}\n",
      "✅ Model saved to saved_models/morgan_neural_network_best.joblib\n",
      "\n",
      "🔬 Processing descriptor: maccs\n",
      "\n",
      "⚙️ Training random_forest with maccs descriptor...\n",
      "Fitting 5 folds for each of 216 candidates, totalling 1080 fits\n"
     ]
    },
    {
     "name": "stderr",
     "output_type": "stream",
     "text": [
      "/Users/ahmadkamal-n/.pyenv/versions/3.10.4/lib/python3.10/site-packages/sklearn/model_selection/_split.py:700: UserWarning: The least populated class in y has only 3 members, which is less than n_splits=5.\n",
      "  warnings.warn(\n"
     ]
    },
    {
     "name": "stdout",
     "output_type": "stream",
     "text": [
      "✅ Best parameters for random_forest with maccs: {'bootstrap': False, 'max_depth': None, 'min_samples_leaf': 1, 'min_samples_split': 10, 'n_estimators': 100}\n",
      "✅ Model saved to saved_models/maccs_random_forest_best.joblib\n",
      "\n",
      "⚙️ Training svm with maccs descriptor...\n",
      "Fitting 5 folds for each of 60 candidates, totalling 300 fits\n"
     ]
    },
    {
     "name": "stderr",
     "output_type": "stream",
     "text": [
      "/Users/ahmadkamal-n/.pyenv/versions/3.10.4/lib/python3.10/site-packages/sklearn/model_selection/_split.py:700: UserWarning: The least populated class in y has only 3 members, which is less than n_splits=5.\n",
      "  warnings.warn(\n"
     ]
    },
    {
     "name": "stdout",
     "output_type": "stream",
     "text": [
      "✅ Best parameters for svm with maccs: {'C': 100, 'gamma': 0.001, 'kernel': 'rbf'}\n",
      "✅ Model saved to saved_models/maccs_svm_best.joblib\n",
      "\n",
      "⚙️ Training neural_network with maccs descriptor...\n",
      "Fitting 5 folds for each of 72 candidates, totalling 360 fits\n"
     ]
    },
    {
     "name": "stderr",
     "output_type": "stream",
     "text": [
      "/Users/ahmadkamal-n/.pyenv/versions/3.10.4/lib/python3.10/site-packages/sklearn/model_selection/_split.py:700: UserWarning: The least populated class in y has only 3 members, which is less than n_splits=5.\n",
      "  warnings.warn(\n"
     ]
    },
    {
     "name": "stdout",
     "output_type": "stream",
     "text": [
      "✅ Best parameters for neural_network with maccs: {'activation': 'logistic', 'alpha': 0.01, 'hidden_layer_sizes': (50,), 'learning_rate': 'adaptive'}\n",
      "✅ Model saved to saved_models/maccs_neural_network_best.joblib\n"
     ]
    }
   ],
   "source": [
    "from joblib import dump\n",
    "import os\n",
    "import numpy as np\n",
    "from sklearn.model_selection import train_test_split\n",
    "\n",
    "# Buat folder untuk menyimpan model\n",
    "os.makedirs('saved_models', exist_ok=True)\n",
    "\n",
    "# Dictionary untuk menyimpan descriptor functions\n",
    "descriptor_funcs = {\n",
    "    'morgan': morgan_fingerprint,\n",
    "    'maccs': maccs_keys,\n",
    "}\n",
    "\n",
    "# Dictionary untuk menyimpan model grids\n",
    "model_grids = {\n",
    "    'random_forest': rf_grid,\n",
    "    'svm': svm_grid,\n",
    "    'neural_network': nn_grid\n",
    "}\n",
    "\n",
    "# Loop melalui semua kombinasi descriptor dan model\n",
    "for desc_name, desc_func in descriptor_funcs.items():\n",
    "    print(f\"\\n🔬 Processing descriptor: {desc_name}\")\n",
    "    \n",
    "    # Ekstrak features\n",
    "    try:\n",
    "        X_features = np.array([desc_func(smile) for smile in X])\n",
    "    except Exception as e:\n",
    "        print(f\"❌ Error processing {desc_name}: {e}\")\n",
    "        continue\n",
    "    \n",
    "    # Split data\n",
    "    X_train, X_test, y_train, y_test = train_test_split(\n",
    "        X_features, y, test_size=0.2, random_state=42\n",
    "    )\n",
    "    \n",
    "    for model_name, model_grid in model_grids.items():\n",
    "        print(f\"\\n⚙️ Training {model_name} with {desc_name} descriptor...\")\n",
    "        \n",
    "        try:\n",
    "            # Latih model dengan grid search\n",
    "            model_grid.fit(X_train, y_train)\n",
    "            \n",
    "            # Ambil model terbaik\n",
    "            best_model = model_grid.best_estimator_\n",
    "            \n",
    "            # Simpan model\n",
    "            filename = f\"saved_models/{desc_name}_{model_name}_best.joblib\"\n",
    "            dump(best_model, filename, compress=3)\n",
    "            \n",
    "            # Simpan parameter terbaik\n",
    "            best_params = model_grid.best_params_\n",
    "            with open(f\"saved_models/{desc_name}_{model_name}_best_params.txt\", 'w') as f:\n",
    "                f.write(str(best_params))\n",
    "            \n",
    "            print(f\"✅ Best parameters for {model_name} with {desc_name}: {best_params}\")\n",
    "            print(f\"✅ Model saved to {filename}\")\n",
    "        \n",
    "        except Exception as e:\n",
    "            print(f\"❌ Error training {model_name} with {desc_name}: {e}\")\n"
   ]
  },
  {
   "cell_type": "code",
   "execution_count": null,
   "id": "fceac7a3",
   "metadata": {},
   "outputs": [],
   "source": []
  }
 ],
 "metadata": {
  "kernelspec": {
   "display_name": "Python 3 (ipykernel)",
   "language": "python",
   "name": "python3"
  },
  "language_info": {
   "codemirror_mode": {
    "name": "ipython",
    "version": 3
   },
   "file_extension": ".py",
   "mimetype": "text/x-python",
   "name": "python",
   "nbconvert_exporter": "python",
   "pygments_lexer": "ipython3",
   "version": "3.10.4"
  }
 },
 "nbformat": 4,
 "nbformat_minor": 5
}
